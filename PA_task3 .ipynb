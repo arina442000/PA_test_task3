{
 "cells": [
  {
   "cell_type": "code",
   "execution_count": 4,
   "metadata": {},
   "outputs": [],
   "source": [
    "import pandas as pd\n"
   ]
  },
  {
   "cell_type": "code",
   "execution_count": 14,
   "metadata": {},
   "outputs": [
    {
     "name": "stdout",
     "output_type": "stream",
     "text": [
      "<class 'pandas.core.frame.DataFrame'>\n",
      "RangeIndex: 294 entries, 0 to 293\n",
      "Data columns (total 2 columns):\n",
      " #   Column  Non-Null Count  Dtype\n",
      "---  ------  --------------  -----\n",
      " 0   ID      294 non-null    int64\n",
      " 1   SUM     294 non-null    int64\n",
      "dtypes: int64(2)\n",
      "memory usage: 4.7 KB\n",
      "<class 'pandas.core.frame.DataFrame'>\n",
      "RangeIndex: 182 entries, 0 to 181\n",
      "Data columns (total 2 columns):\n",
      " #   Column  Non-Null Count  Dtype\n",
      "---  ------  --------------  -----\n",
      " 0   ID      182 non-null    int64\n",
      " 1   SUM     182 non-null    int64\n",
      "dtypes: int64(2)\n",
      "memory usage: 3.0 KB\n"
     ]
    }
   ],
   "source": [
    "data_feb = pd.read_csv('FEBR.csv',delimiter=';')\n",
    "data_jan = pd.read_csv('JANU.csv',delimiter=';')\n",
    "data_jan.info()\n",
    "data_feb.info()"
   ]
  },
  {
   "cell_type": "markdown",
   "metadata": {},
   "source": [
    "В январе было совершено 294 покупки, а в феврале - 182"
   ]
  },
  {
   "cell_type": "code",
   "execution_count": 8,
   "metadata": {},
   "outputs": [
    {
     "name": "stdout",
     "output_type": "stream",
     "text": [
      "275\n",
      "166\n"
     ]
    }
   ],
   "source": [
    "users_jan = data_jan['ID'].nunique()\n",
    "print(users_jan) \n",
    "users_feb = data_feb['ID'].nunique()\n",
    "print(users_feb)"
   ]
  },
  {
   "cell_type": "markdown",
   "metadata": {},
   "source": [
    "количество уникальных покупателей в феврале сократилось практически в 2 раза, в сравнении с январем"
   ]
  },
  {
   "cell_type": "code",
   "execution_count": 10,
   "metadata": {},
   "outputs": [
    {
     "name": "stdout",
     "output_type": "stream",
     "text": [
      "Средний чек в январе: 4804.411564625851 \n",
      "Средний чек в феврале: 6194.324175824176\n"
     ]
    }
   ],
   "source": [
    "print('Средний чек в январе:',data_jan['SUM'].mean(),'\\nСредний чек в феврале:',data_feb['SUM'].mean())"
   ]
  },
  {
   "cell_type": "code",
   "execution_count": 18,
   "metadata": {},
   "outputs": [
    {
     "name": "stdout",
     "output_type": "stream",
     "text": [
      "Доход с пользователя в январе: 5136.352727272727 \n",
      "Доход с пользователя в феврале: 6791.3674698795185\n",
      "Доход за январь:  1412497 \n",
      "Доход за февраль:  1127367\n"
     ]
    }
   ],
   "source": [
    "print('Доход с пользователя в январе:',data_jan['SUM'].sum()/users_jan,'\\nДоход с пользователя в феврале:',data_feb['SUM'].sum()/users_feb)\n",
    "print('Доход за январь: ', data_jan['SUM'].sum(),'\\nДоход за февраль: ',data_feb['SUM'].sum())"
   ]
  },
  {
   "cell_type": "markdown",
   "metadata": {},
   "source": [
    "Да, средний чек вырос и вырос доход с пользователя, но сократилось количество пользователей. И как видно, общий доход упал"
   ]
  },
  {
   "cell_type": "code",
   "execution_count": null,
   "metadata": {},
   "outputs": [],
   "source": []
  }
 ],
 "metadata": {
  "kernelspec": {
   "display_name": "Python 3",
   "language": "python",
   "name": "python3"
  },
  "language_info": {
   "codemirror_mode": {
    "name": "ipython",
    "version": 3
   },
   "file_extension": ".py",
   "mimetype": "text/x-python",
   "name": "python",
   "nbconvert_exporter": "python",
   "pygments_lexer": "ipython3",
   "version": "3.8.5"
  }
 },
 "nbformat": 4,
 "nbformat_minor": 4
}
